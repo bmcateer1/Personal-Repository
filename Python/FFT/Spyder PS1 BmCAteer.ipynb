# -*- coding: utf-8 -*-
"""
Created on Thu Oct 14 17:26:21 2021

@author: Ben
"""
#Ben McAteer Midterm Project BME 511

import numpy as np
import matplotlib.pyplot as plt
#import pandas as pd

#from sklearn.decomposition import PCA
#from scipy import signal
from scipy.io import loadmat
from numpy.fft import fft, ifft
#from scipy.signal import find_peaks
#from scipy import linalg

import glob
import os

NumTrials = 6
def SST (Subject,Session,Trial): # pulls all matlab files for a specific subject in order from session 1 first run to the final session
    
    DataPath = os.chdir('/Users\Ben\OneDrive - purdue.edu\BME 511\MidtermProject\AllSubjsEEG\subject{}\session{}'.format(Subject,Session))
    mat_files = glob.glob('*.mat')
    #print(mat_files) #troubleshoot
    Trial = loadmat(mat_files[Trial], squeeze_me = True)
    data = Trial['data'] #raw data
    events = Trial['events']
    stimuli = Trial['stimuli']
    
    return(data,events,stimuli)

#1A
from numpy.fft import fft, ifft
from scipy import signal
import datetime

data1,events1,stimuli1 = SST(6,1,0) #TRIALS START AT 0- Subject#, Session#, Trial#-1


#Ref1 = data1[32,:]
#Ref2 = data1[33,:]
#RefT = Ref1*.5 + Ref2 * .5
RefT = data1[32,:] * .5 + data1[33,:] * 0.5
NewData = data1 - RefT #subtracts the data by the average of the two reference EEG leads

lowfreq = 1 #Hz low frequency of the filter
highfreq = 12 #Hz high frequency of the filter
fs = 2048 #Hz sample rate

filt_len = int(np.ceil(1./.5 * fs)) #filter length with 0.5 being the transition band
h_filter = signal.firwin(filt_len, [lowfreq,highfreq], fs=fs, pass_zero=False) #compute filter

FilterData = signal.filtfilt(h_filter,1,NewData,axis = -1) #Filtered Data

time = np.arange(0,1,1/fs) #0 to 1 second at sample freq

def unpackStamp(x):
    y = np.int32(x[0])
    mo = np.int32(x[1])
    d = np.int32(x[2])
    h = np.int32(x[3])
    mi = np.int32(x[4])
    s = x[5]
    s_new = np.int32(np.floor(s))
    micros = np.int32((s - s_new) * 1e6)
    unpacked = datetime.datetime(y, mo, d, h, mi, s_new, micros)
    return unpacked


def events2samps(events, fs):
    firsteve_time = 0.4
    Nevents = events.shape[0]
    evesamps = np.zeros(Nevents)
    for k in range(Nevents):
        td =  unpackStamp(events[k, :]) - unpackStamp(events[0, :])
        evesamps[k] = np.int32(np.round(td.total_seconds()*fs + firsteve_time*fs + 1))
    
    return evesamps

Eventsdata = events2samps(events1,fs)
#t = np.arange(0,NewData.size/fs,1./fs)
#plt.figure()
#plt.plot(t,NewData) #Plot the signal
#plt.plot(t,FilterData) #Plot the filtered Signal
#plt.xlabel('Time (sec)')
#plt.ylabel(u'\u03bcV')
#plt.legend(['Raw','Filtered'])
#plt.title('EEG Signal',fontweight='bold')

# [w, hf_filter] = signal.freqz(h_filter,a=1,fs=fs, worN=h_filter.size)
# plt.figure()
# plt.plot(w.squeeze(),abs(hf_filter))
# plt.xlim([0,13])
# plt.xlabel('Frequency (Hz)',fontsize=12,)
# plt.ylabel('Magnitude',fontsize=12)
# plt.title('H(f)',fontsize=15,fontweight='bold')
# plt.show()

#for i in range(34): #plots all data lines
#    plt.plot(data1[i,:], '.')
